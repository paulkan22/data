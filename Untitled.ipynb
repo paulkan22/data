{
 "cells": [
  {
   "cell_type": "code",
   "execution_count": 89,
   "id": "213b1e58",
   "metadata": {},
   "outputs": [
    {
     "data": {
      "text/html": [
       "<img src=\"test.PNG\" width=\"800\" height=\"800\"/>"
      ],
      "text/plain": [
       "<IPython.core.display.Image object>"
      ]
     },
     "execution_count": 89,
     "metadata": {},
     "output_type": "execute_result"
    }
   ],
   "source": [
    "\n",
    "from IPython.display import Image \n",
    "\n",
    "Image(url=\"test.PNG\", width=800, height=800) \n"
   ]
  },
  {
   "cell_type": "code",
   "execution_count": 1,
   "id": "f32a5173",
   "metadata": {},
   "outputs": [],
   "source": [
    "import numpy as np"
   ]
  },
  {
   "cell_type": "code",
   "execution_count": 48,
   "id": "39baa7a5",
   "metadata": {},
   "outputs": [
    {
     "data": {
      "text/plain": [
       "array([23, 25, 26, 24], dtype=int64)"
      ]
     },
     "execution_count": 48,
     "metadata": {},
     "output_type": "execute_result"
    }
   ],
   "source": [
    "import pandas as pd\n",
    "data = pd.read_csv('orders.csv')\n",
    "\n",
    "data.city_id.unique()"
   ]
  },
  {
   "cell_type": "code",
   "execution_count": 52,
   "id": "50dc0d85",
   "metadata": {},
   "outputs": [
    {
     "name": "stdout",
     "output_type": "stream",
     "text": [
      "1103\n"
     ]
    }
   ],
   "source": [
    "data.head()\n",
    "mask = (data.spec =='Рыба')\n",
    "print(len(data[mask]))"
   ]
  },
  {
   "cell_type": "code",
   "execution_count": 59,
   "id": "fe808782",
   "metadata": {
    "scrolled": true
   },
   "outputs": [
    {
     "data": {
      "text/plain": [
       "date                  object\n",
       "vendor_id              int64\n",
       "chain_id               int64\n",
       "city_id                int64\n",
       "spec                  object\n",
       "successful_orders    float64\n",
       "fail_orders          float64\n",
       "dtype: object"
      ]
     },
     "execution_count": 59,
     "metadata": {},
     "output_type": "execute_result"
    }
   ],
   "source": [
    "data.dtypes"
   ]
  },
  {
   "cell_type": "code",
   "execution_count": 86,
   "id": "a4284a37",
   "metadata": {},
   "outputs": [
    {
     "data": {
      "text/plain": [
       "45"
      ]
     },
     "execution_count": 86,
     "metadata": {},
     "output_type": "execute_result"
    }
   ],
   "source": [
    "data\n",
    "len(data[(data['vendor_id'] == 40065) &(data['successful_orders'] < 20 )])"
   ]
  },
  {
   "cell_type": "code",
   "execution_count": null,
   "id": "98b18424",
   "metadata": {},
   "outputs": [],
   "source": []
  }
 ],
 "metadata": {
  "kernelspec": {
   "display_name": "Python 3 (ipykernel)",
   "language": "python",
   "name": "python3"
  },
  "language_info": {
   "codemirror_mode": {
    "name": "ipython",
    "version": 3
   },
   "file_extension": ".py",
   "mimetype": "text/x-python",
   "name": "python",
   "nbconvert_exporter": "python",
   "pygments_lexer": "ipython3",
   "version": "3.11.5"
  }
 },
 "nbformat": 4,
 "nbformat_minor": 5
}
